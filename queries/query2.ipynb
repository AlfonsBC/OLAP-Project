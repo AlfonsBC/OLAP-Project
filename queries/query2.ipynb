{
 "cells": [
  {
   "cell_type": "code",
   "execution_count": 83,
   "metadata": {
    "ExecuteTime": {
     "end_time": "2021-01-25T17:17:59.654127Z",
     "start_time": "2021-01-25T17:17:59.649666Z"
    }
   },
   "outputs": [],
   "source": [
    "import pandas as pd\n",
    "from statsmodels.tsa.api import ExponentialSmoothing\n",
    "import matplotlib.pyplot as plt"
   ]
  },
  {
   "cell_type": "code",
   "execution_count": 84,
   "metadata": {
    "ExecuteTime": {
     "end_time": "2021-01-25T17:17:59.840373Z",
     "start_time": "2021-01-25T17:17:59.828701Z"
    }
   },
   "outputs": [
    {
     "data": {
      "text/html": [
       "<div>\n",
       "<style scoped>\n",
       "    .dataframe tbody tr th:only-of-type {\n",
       "        vertical-align: middle;\n",
       "    }\n",
       "\n",
       "    .dataframe tbody tr th {\n",
       "        vertical-align: top;\n",
       "    }\n",
       "\n",
       "    .dataframe thead th {\n",
       "        text-align: right;\n",
       "    }\n",
       "</style>\n",
       "<table border=\"1\" class=\"dataframe\">\n",
       "  <thead>\n",
       "    <tr style=\"text-align: right;\">\n",
       "      <th></th>\n",
       "      <th>estado_desc</th>\n",
       "      <th>mes_desc</th>\n",
       "      <th>ganancia_total</th>\n",
       "    </tr>\n",
       "  </thead>\n",
       "  <tbody>\n",
       "    <tr>\n",
       "      <th>0</th>\n",
       "      <td>Baja California</td>\n",
       "      <td>\"Enero 2018\"</td>\n",
       "      <td>9.950156e+06</td>\n",
       "    </tr>\n",
       "    <tr>\n",
       "      <th>1</th>\n",
       "      <td>Sinaloa</td>\n",
       "      <td>\"Enero 2018\"</td>\n",
       "      <td>7.217590e+06</td>\n",
       "    </tr>\n",
       "    <tr>\n",
       "      <th>2</th>\n",
       "      <td>Yucatan</td>\n",
       "      <td>\"Enero 2018\"</td>\n",
       "      <td>1.408995e+06</td>\n",
       "    </tr>\n",
       "    <tr>\n",
       "      <th>3</th>\n",
       "      <td>Veracruz de Ignacio de la Llave</td>\n",
       "      <td>\"Enero 2018\"</td>\n",
       "      <td>4.888718e+06</td>\n",
       "    </tr>\n",
       "    <tr>\n",
       "      <th>4</th>\n",
       "      <td>Tamaulipas</td>\n",
       "      <td>\"Enero 2018\"</td>\n",
       "      <td>5.524328e+06</td>\n",
       "    </tr>\n",
       "    <tr>\n",
       "      <th>...</th>\n",
       "      <td>...</td>\n",
       "      <td>...</td>\n",
       "      <td>...</td>\n",
       "    </tr>\n",
       "    <tr>\n",
       "      <th>423</th>\n",
       "      <td>Baja California</td>\n",
       "      <td>\"Mayo 2020\"</td>\n",
       "      <td>2.361477e+03</td>\n",
       "    </tr>\n",
       "    <tr>\n",
       "      <th>424</th>\n",
       "      <td>Chiapas</td>\n",
       "      <td>\"Mayo 2020\"</td>\n",
       "      <td>2.119084e+03</td>\n",
       "    </tr>\n",
       "    <tr>\n",
       "      <th>425</th>\n",
       "      <td>Veracruz de Ignacio de la Llave</td>\n",
       "      <td>\"Mayo 2020\"</td>\n",
       "      <td>5.195880e+05</td>\n",
       "    </tr>\n",
       "    <tr>\n",
       "      <th>426</th>\n",
       "      <td>Coahuila de Zaragoza</td>\n",
       "      <td>\"Mayo 2020\"</td>\n",
       "      <td>2.113067e+06</td>\n",
       "    </tr>\n",
       "    <tr>\n",
       "      <th>427</th>\n",
       "      <td>Jalisco</td>\n",
       "      <td>\"Mayo 2020\"</td>\n",
       "      <td>4.341019e+06</td>\n",
       "    </tr>\n",
       "  </tbody>\n",
       "</table>\n",
       "<p>428 rows × 3 columns</p>\n",
       "</div>"
      ],
      "text/plain": [
       "                         estado_desc       mes_desc  ganancia_total\n",
       "0                    Baja California   \"Enero 2018\"    9.950156e+06\n",
       "1                            Sinaloa   \"Enero 2018\"    7.217590e+06\n",
       "2                            Yucatan   \"Enero 2018\"    1.408995e+06\n",
       "3    Veracruz de Ignacio de la Llave   \"Enero 2018\"    4.888718e+06\n",
       "4                         Tamaulipas   \"Enero 2018\"    5.524328e+06\n",
       "..                               ...            ...             ...\n",
       "423                  Baja California    \"Mayo 2020\"    2.361477e+03\n",
       "424                          Chiapas    \"Mayo 2020\"    2.119084e+03\n",
       "425  Veracruz de Ignacio de la Llave    \"Mayo 2020\"    5.195880e+05\n",
       "426             Coahuila de Zaragoza    \"Mayo 2020\"    2.113067e+06\n",
       "427                          Jalisco    \"Mayo 2020\"    4.341019e+06\n",
       "\n",
       "[428 rows x 3 columns]"
      ]
     },
     "execution_count": 84,
     "metadata": {},
     "output_type": "execute_result"
    }
   ],
   "source": [
    "datos = pd.read_csv('consulta2.csv')\n",
    "estados = datos['estado_desc'].unique()\n",
    "datos\n"
   ]
  },
  {
   "cell_type": "code",
   "execution_count": 85,
   "metadata": {
    "ExecuteTime": {
     "end_time": "2021-01-25T17:18:00.080620Z",
     "start_time": "2021-01-25T17:18:00.008087Z"
    }
   },
   "outputs": [],
   "source": [
    "\n",
    " \n",
    "predicciones = {}\n",
    "for estado in estados:\n",
    "    datos_estado = datos[datos['estado_desc']==estado]\n",
    "    if  \"Mayo 2020\" not in datos_estado['mes_desc'].values[-1]:\n",
    "        predicciones[estado] = 0\n",
    "        continue\n",
    "    ses = ExponentialSmoothing(datos_estado.ganancia_total.values,seasonal_periods=12).fit()\n",
    "    ses_p = ses.forecast(1)\n",
    "    predicciones[estado] = ses_p\n",
    "    #datos_estado.plot(kind='line', figsize=(20,9))\n",
    "    #ses_p.plot(kind='line')"
   ]
  },
  {
   "cell_type": "code",
   "execution_count": 90,
   "metadata": {
    "ExecuteTime": {
     "end_time": "2021-01-25T18:33:06.859593Z",
     "start_time": "2021-01-25T18:33:06.607083Z"
    }
   },
   "outputs": [
    {
     "data": {
      "image/png": "[encoded data removed]",
      "text/plain": [
       "<Figure size 432x288 with 1 Axes>"
      ]
     },
     "metadata": {
      "needs_background": "light"
     },
     "output_type": "display_data"
    }
   ],
   "source": [
    "plt.bar(predicciones.keys(),predicciones.values())\n",
    "plt.xticks(rotation=90,size=7)\n",
    "plt.title('Predicción de ventas para Junio 2020')\n",
    "plt.show()"
   ]
  },
  {
   "cell_type": "code",
   "execution_count": 89,
   "metadata": {
    "ExecuteTime": {
     "end_time": "2021-01-25T17:19:07.504140Z",
     "start_time": "2021-01-25T17:19:07.492900Z"
    }
   },
   "outputs": [
    {
     "name": "stdout",
     "output_type": "stream",
     "text": [
      "La mayor ganancia esperada para el mes de Junio 2020 es \n",
      " Chihuahua con ganancias de: 15206448.254351635\n"
     ]
    }
   ],
   "source": [
    "print('La mayor ganancia esperada para el mes de Junio 2020 es \\n Chihuahua con ganancias de:',predicciones['Chihuahua'][0])"
   ]
  },
  {
   "cell_type": "code",
   "execution_count": 95,
   "metadata": {
    "ExecuteTime": {
     "end_time": "2021-01-25T18:46:40.525840Z",
     "start_time": "2021-01-25T18:46:40.512660Z"
    }
   },
   "outputs": [
    {
     "name": "stdout",
     "output_type": "stream",
     "text": [
      "Porcentaje de aportación a las ganancias totales:\n",
      " 0.1520874991239482\n"
     ]
    }
   ],
   "source": [
    "print('Porcentaje de aportación a las ganancias totales:\\n',predicciones['Chihuahua'][0]/sum(predicciones.values())[0])"
   ]
  },
  {
   "cell_type": "code",
   "execution_count": 92,
   "metadata": {
    "ExecuteTime": {
     "end_time": "2021-01-25T18:46:11.188699Z",
     "start_time": "2021-01-25T18:46:11.171868Z"
    }
   },
   "outputs": [
    {
     "data": {
      "text/plain": [
       "array([99984866.22466381])"
      ]
     },
     "execution_count": 92,
     "metadata": {},
     "output_type": "execute_result"
    }
   ],
   "source": []
  }
 ],
 "metadata": {
  "hide_input": false,
  "kernelspec": {
   "display_name": "Python 3",
   "language": "python",
   "name": "python3"
  },
  "language_info": {
   "codemirror_mode": {
    "name": "ipython",
    "version": 3
   },
   "file_extension": ".py",
   "mimetype": "text/x-python",
   "name": "python",
   "nbconvert_exporter": "python",
   "pygments_lexer": "ipython3",
   "version": "3.8.3"
  },
  "varInspector": {
   "cols": {
    "lenName": 16,
    "lenType": 16,
    "lenVar": 40
   },
   "kernels_config": {
    "python": {
     "delete_cmd_postfix": "",
     "delete_cmd_prefix": "del ",
     "library": "var_list.py",
     "varRefreshCmd": "print(var_dic_list())"
    },
    "r": {
     "delete_cmd_postfix": ") ",
     "delete_cmd_prefix": "rm(",
     "library": "var_list.r",
     "varRefreshCmd": "cat(var_dic_list()) "
    }
   },
   "types_to_exclude": [
    "module",
    "function",
    "builtin_function_or_method",
    "instance",
    "_Feature"
   ],
   "window_display": false
  }
 },
 "nbformat": 4,
 "nbformat_minor": 4
}
